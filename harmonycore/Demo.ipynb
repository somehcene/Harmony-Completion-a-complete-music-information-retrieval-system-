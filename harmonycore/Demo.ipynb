{
 "cells": [
  {
   "cell_type": "code",
   "execution_count": null,
   "id": "f977df4c",
   "metadata": {},
   "outputs": [],
   "source": [
    "import os\n",
    "from mt3_runner import transcribe_audio_to_sequence \n",
    "from midi_utils import note_sequence_to_chords, save_note_sequence_as_midi\n",
    "from build_trie import load_and_build\n",
    "from search_trie import autocomplete_chords"
   ]
  },
  {
   "cell_type": "code",
   "execution_count": null,
   "id": "bb632669",
   "metadata": {},
   "outputs": [],
   "source": [
    "audio_path = \"../Data/audio_inputs/AcousticGuitare.wav\"\n",
    "note_sequence = transcribe_audio_to_sequence(audio_path)"
   ]
  },
  {
   "cell_type": "code",
   "execution_count": null,
   "id": "f72a29f0",
   "metadata": {},
   "outputs": [],
   "source": [
    "midi_output_path = \"../Data/midi_outputs/guitar_sample.mid\"\n",
    "save_note_sequence_as_midi(note_sequence, midi_output_path)\n",
    "print(f\"Saved MIDI to {midi_output_path}\")"
   ]
  },
  {
   "cell_type": "code",
   "execution_count": null,
   "id": "2f80bd7d",
   "metadata": {},
   "outputs": [],
   "source": [
    "chord_seq = note_sequence_to_chords(note_sequence)\n",
    "print(\"Extracted chords:\", chord_seq)"
   ]
  },
  {
   "cell_type": "code",
   "execution_count": null,
   "id": "411b9823",
   "metadata": {},
   "outputs": [],
   "source": [
    "json_path = \"../Data/MusicBench_train.json\"\n",
    "harmony_trie = load_and_build(json_path)"
   ]
  },
  {
   "cell_type": "code",
   "execution_count": null,
   "id": "1b41c033",
   "metadata": {},
   "outputs": [],
   "source": [
    "prefix = chord_seq[:3]  # simulate partial progression\n",
    "completions = autocomplete_chords(harmony_trie, prefix)"
   ]
  },
  {
   "cell_type": "code",
   "execution_count": null,
   "id": "8e98c4cf",
   "metadata": {},
   "outputs": [],
   "source": [
    "print(\"\\nAutocomplete results:\")\n",
    "for seq, count in completions[:10]:\n",
    "    print(\" →\", seq, f\"(count={count})\")"
   ]
  }
 ],
 "metadata": {
  "language_info": {
   "name": "python"
  }
 },
 "nbformat": 4,
 "nbformat_minor": 5
}
