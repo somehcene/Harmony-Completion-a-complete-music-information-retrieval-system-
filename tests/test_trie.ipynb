{
 "cells": [
  {
   "cell_type": "code",
   "execution_count": 1,
   "id": "683a2f27",
   "metadata": {},
   "outputs": [
    {
     "name": "stdout",
     "output_type": "stream",
     "text": [
      "Project directory added to path: c:\\Users\\Sherif\\Desktop\\Harmony Completion Internship\n"
     ]
    }
   ],
   "source": [
    "import sys\n",
    "import os\n",
    "\n",
    "# Ajouter le dossier contenant harmonycore/ au path Python\n",
    "PROJECT_DIR = os.path.abspath(\"..\")  # ou adapte selon ton point de départ\n",
    "if PROJECT_DIR not in sys.path:\n",
    "    sys.path.append(PROJECT_DIR)\n",
    "\n",
    "# Vérification\n",
    "print(\"Project directory added to path:\", PROJECT_DIR)\n",
    "\n"
   ]
  },
  {
   "cell_type": "code",
   "execution_count": 2,
   "id": "99e12466",
   "metadata": {},
   "outputs": [
    {
     "ename": "ModuleNotFoundError",
     "evalue": "No module named 'build_trie'",
     "output_type": "error",
     "traceback": [
      "\u001b[1;31m---------------------------------------------------------------------------\u001b[0m",
      "\u001b[1;31mModuleNotFoundError\u001b[0m                       Traceback (most recent call last)",
      "Cell \u001b[1;32mIn[2], line 1\u001b[0m\n\u001b[1;32m----> 1\u001b[0m \u001b[38;5;28;01mfrom\u001b[39;00m \u001b[38;5;21;01mbuild_trie\u001b[39;00m \u001b[38;5;28;01mimport\u001b[39;00m load_and_build\n\u001b[0;32m      2\u001b[0m \u001b[38;5;28;01mfrom\u001b[39;00m \u001b[38;5;21;01msearch_trie\u001b[39;00m \u001b[38;5;28;01mimport\u001b[39;00m autocomplete_chords \n",
      "\u001b[1;31mModuleNotFoundError\u001b[0m: No module named 'build_trie'"
     ]
    }
   ],
   "source": [
    "from build_trie import load_and_build\n",
    "from search_trie import autocomplete_chords \n"
   ]
  },
  {
   "cell_type": "code",
   "execution_count": null,
   "id": "8889f3ef",
   "metadata": {},
   "outputs": [
    {
     "name": "stdout",
     "output_type": "stream",
     "text": [
      "Trie construit depuis c:\\Users\\Sherif\\Desktop\\Harmony Completion Internship\\Data\\MusicBench_train.json\n"
     ]
    }
   ],
   "source": [
    "json_path = os.path.join(PROJECT_DIR, \"Data\", \"MusicBench_train.json\")\n",
    "trie = load_and_build(json_path)\n",
    "print(\"Trie construit depuis\", json_path)"
   ]
  },
  {
   "cell_type": "code",
   "execution_count": null,
   "id": "7a3fe347",
   "metadata": {},
   "outputs": [
    {
     "name": "stdout",
     "output_type": "stream",
     "text": [
      " → ['Am', 'E'] (count=76)\n",
      " → ['Am', 'E', 'C#maj7'] (count=16)\n",
      " → ['Am', 'E', 'C#maj7', 'B'] (count=8)\n",
      " → ['Am', 'E', 'F'] (count=3)\n",
      " → ['Am', 'E', 'F', 'C'] (count=2)\n",
      " → ['Am', 'E', 'F', 'C', 'D'] (count=1)\n",
      " → ['Am', 'E', 'Am'] (count=33)\n",
      " → ['Am', 'E', 'Am', 'E'] (count=16)\n",
      " → ['Am', 'E', 'Am', 'E', 'Am'] (count=8)\n",
      " → ['Am', 'E', 'Am', 'Dm'] (count=6)\n"
     ]
    }
   ],
   "source": [
    "prefix = [\"Am\", \"E\"]  # à adapter selon ce que tu vois dans tes données\n",
    "results = autocomplete_chords(trie, prefix)\n",
    "\n",
    "# Affichage\n",
    "for seq, count in results[:10]:\n",
    "    print(\" →\", seq, f\"(count={count})\")\n"
   ]
  },
  {
   "cell_type": "code",
   "execution_count": null,
   "id": "e6aa3118",
   "metadata": {},
   "outputs": [
    {
     "name": "stdout",
     "output_type": "stream",
     "text": [
      "Nombre de complétions pour ['Am', 'E'] : 12\n"
     ]
    }
   ],
   "source": [
    "print(f\"Nombre de complétions pour {prefix} :\", len(results))"
   ]
  }
 ],
 "metadata": {
  "kernelspec": {
   "display_name": "Python 3",
   "language": "python",
   "name": "python3"
  },
  "language_info": {
   "codemirror_mode": {
    "name": "ipython",
    "version": 3
   },
   "file_extension": ".py",
   "mimetype": "text/x-python",
   "name": "python",
   "nbconvert_exporter": "python",
   "pygments_lexer": "ipython3",
   "version": "3.12.10"
  }
 },
 "nbformat": 4,
 "nbformat_minor": 5
}
